{
 "cells": [
  {
   "cell_type": "code",
   "execution_count": 7,
   "id": "86d09d63",
   "metadata": {},
   "outputs": [],
   "source": [
    "import pandas as pd\n",
    "from xgboost import XGBRegressor\n",
    "from sklearn.preprocessing import OneHotEncoder"
   ]
  },
  {
   "cell_type": "code",
   "execution_count": 8,
   "id": "e520c899",
   "metadata": {},
   "outputs": [],
   "source": [
    "df_train = pd.read_csv('data/train.csv')\n",
    "df_test = pd.read_csv('data/test.csv')\n",
    "#df_train"
   ]
  },
  {
   "cell_type": "code",
   "execution_count": 9,
   "id": "b817c36c",
   "metadata": {},
   "outputs": [],
   "source": [
    "encod = OneHotEncoder()\n",
    "\n",
    "def process_input_data(X_input, control=True):\n",
    "    X_obj  = X_input.select_dtypes(include=object)\n",
    "    X_nobj = X_input.select_dtypes(exclude=object) \n",
    "    \n",
    "    \n",
    "    \n",
    "    X_encode = encod.fit_transform(X_obj).toarray()\n",
    "    X_object = pd.DataFrame(X_encode, columns=encod.get_feature_names_out(X_obj.columns))\n",
    "    X_res = pd.concat([X_nobj, X_object])\n",
    "    \n",
    "    print(f'{X_object.shape=}', f'{X_nobj.shape=}', f'{X_res.shape=}')\n",
    "    # X_object.shape=(1460, 268) X_nobj.shape=(1460, 36) X_res.shape=(1461, 304)\n",
    "    \n",
    "    \n",
    "    print (len(X_res), len(X_obj))\n",
    "    # !!!!!!!FCK\n",
    "    if (control):\n",
    "        assert len(X_res)  == len(X_obj)\n",
    "    \n",
    "    # !!!!!!!FCK\n",
    "    return X_res\n",
    "    \n"
   ]
  },
  {
   "cell_type": "code",
   "execution_count": 10,
   "id": "609a60b3",
   "metadata": {},
   "outputs": [
    {
     "name": "stdout",
     "output_type": "stream",
     "text": [
      "80\n",
      "80\n",
      "X_object.shape=(1460, 268) X_nobj.shape=(1460, 36) X_res.shape=(2920, 304)\n",
      "2920 1460\n"
     ]
    },
    {
     "ename": "AssertionError",
     "evalue": "",
     "output_type": "error",
     "traceback": [
      "\u001b[0;31m---------------------------------------------------------------------------\u001b[0m",
      "\u001b[0;31mAssertionError\u001b[0m                            Traceback (most recent call last)",
      "\u001b[0;32m/tmp/ipykernel_275470/604355150.py\u001b[0m in \u001b[0;36m<module>\u001b[0;34m\u001b[0m\n\u001b[1;32m      9\u001b[0m \u001b[0mdf_test\u001b[0m  \u001b[0;34m=\u001b[0m \u001b[0mdf_test\u001b[0m\u001b[0;34m.\u001b[0m\u001b[0mset_index\u001b[0m\u001b[0;34m(\u001b[0m\u001b[0;34m[\u001b[0m\u001b[0;34m'Id'\u001b[0m\u001b[0;34m]\u001b[0m\u001b[0;34m)\u001b[0m\u001b[0;34m\u001b[0m\u001b[0;34m\u001b[0m\u001b[0m\n\u001b[1;32m     10\u001b[0m \u001b[0;34m\u001b[0m\u001b[0m\n\u001b[0;32m---> 11\u001b[0;31m \u001b[0mX_train\u001b[0m \u001b[0;34m=\u001b[0m \u001b[0mprocess_input_data\u001b[0m\u001b[0;34m(\u001b[0m\u001b[0mdf_train\u001b[0m\u001b[0;34m)\u001b[0m\u001b[0;34m\u001b[0m\u001b[0;34m\u001b[0m\u001b[0m\n\u001b[0m\u001b[1;32m     12\u001b[0m \u001b[0mX_train\u001b[0m\u001b[0;34m\u001b[0m\u001b[0;34m\u001b[0m\u001b[0m\n",
      "\u001b[0;32m/tmp/ipykernel_275470/2168006334.py\u001b[0m in \u001b[0;36mprocess_input_data\u001b[0;34m(X_input, control)\u001b[0m\n\u001b[1;32m     18\u001b[0m     \u001b[0;31m# !!!!!!!FCK\u001b[0m\u001b[0;34m\u001b[0m\u001b[0;34m\u001b[0m\u001b[0;34m\u001b[0m\u001b[0m\n\u001b[1;32m     19\u001b[0m     \u001b[0;32mif\u001b[0m \u001b[0;34m(\u001b[0m\u001b[0mcontrol\u001b[0m\u001b[0;34m)\u001b[0m\u001b[0;34m:\u001b[0m\u001b[0;34m\u001b[0m\u001b[0;34m\u001b[0m\u001b[0m\n\u001b[0;32m---> 20\u001b[0;31m         \u001b[0;32massert\u001b[0m \u001b[0mlen\u001b[0m\u001b[0;34m(\u001b[0m\u001b[0mX_res\u001b[0m\u001b[0;34m)\u001b[0m  \u001b[0;34m==\u001b[0m \u001b[0mlen\u001b[0m\u001b[0;34m(\u001b[0m\u001b[0mX_obj\u001b[0m\u001b[0;34m)\u001b[0m\u001b[0;34m\u001b[0m\u001b[0;34m\u001b[0m\u001b[0m\n\u001b[0m\u001b[1;32m     21\u001b[0m \u001b[0;34m\u001b[0m\u001b[0m\n\u001b[1;32m     22\u001b[0m     \u001b[0;31m# !!!!!!!FCK\u001b[0m\u001b[0;34m\u001b[0m\u001b[0;34m\u001b[0m\u001b[0;34m\u001b[0m\u001b[0m\n",
      "\u001b[0;31mAssertionError\u001b[0m: "
     ]
    }
   ],
   "source": [
    "y_train = df_train['SalePrice']\n",
    "df_train = df_train.drop(columns=['SalePrice'])\n",
    "#y_train.value_counts()\n",
    "\n",
    "print(len(df_train.columns))\n",
    "print(len(df_test.columns))\n",
    "\n",
    "df_train = df_train.set_index(['Id'])\n",
    "df_test  = df_test.set_index(['Id'])\n",
    "\n",
    "X_train = process_input_data(df_train)\n",
    "X_train"
   ]
  },
  {
   "cell_type": "code",
   "execution_count": null,
   "id": "794a6347",
   "metadata": {
    "scrolled": true
   },
   "outputs": [],
   "source": [
    "\n",
    "#X_obj_train['Street'].value_counts()\n",
    "\n",
    "# test_obj_train = X_obj_train[['MSZoning', 'Alley', 'LotShape', 'LandSlope', 'Neighborhood']][:10]\n",
    "\n",
    "# X_encode_train = encod.fit_transform(test_obj_train).toarray()\n",
    "# print(X_encode_train)\n",
    "\n",
    "# df_test_object_train = pd.DataFrame(X_encode_train, columns=encod.get_feature_names(test_obj_train.columns))\n",
    "\n",
    "# pd.concat([d.reset_index(drop=True) for d in [test_obj_train, df_test_object_train]], axis=1)\n",
    "\n",
    "# test_obj_train = X_obj_train[:2]\n",
    "\n",
    "# X_encode_train = encod.fit_transform(test_obj_train).toarray()\n",
    "# test_obj_train"
   ]
  },
  {
   "cell_type": "code",
   "execution_count": null,
   "id": "5c59e626",
   "metadata": {
    "scrolled": false
   },
   "outputs": [],
   "source": [
    "model = XGBRegressor()\n",
    "model.fit(X_train, y_train,)\n",
    "\n",
    "f_i = model.feature_importances_\n",
    "feature_importan = pd.DataFrame(f_i, columns=['feature_importance'])\n",
    "feature_importan['Feature'] = X_train.columns\n",
    "feature_importan = feature_importan.set_index(['Feature']).sort_values(by=['feature_importance'], ascending=False)\n",
    "feature_importan[:20]\n"
   ]
  },
  {
   "cell_type": "code",
   "execution_count": null,
   "id": "12e9271e",
   "metadata": {},
   "outputs": [],
   "source": [
    "len(X_train.index)"
   ]
  },
  {
   "cell_type": "code",
   "execution_count": null,
   "id": "d2146814",
   "metadata": {},
   "outputs": [],
   "source": [
    "X_test = process_input_data(df_test, control=False)\n",
    "#print(  list(X_train.keys()) - list(X_test.keys()))\n",
    "col_nte = list(set(X_train.keys()) - set(X_test.keys()))\n",
    "print(len(col_nte))\n",
    "for col in col_nte:\n",
    "    X_test[col] = [0] * len(X_test.index)\n",
    "y_test = model.predict(X_test)\n",
    "y_test"
   ]
  },
  {
   "cell_type": "code",
   "execution_count": null,
   "id": "b2a8c178",
   "metadata": {},
   "outputs": [],
   "source": [
    "\n",
    "\n",
    "\n",
    "#feature_importan = feature_importan.set_index(['Feature']).sort_values(by=['feature_importance'])\n",
    "#useless_param = feature_importan[feature_importan['feature_importance'] < 800]\n",
    "#useless_param.plot()\n",
    "#feature_importan"
   ]
  },
  {
   "cell_type": "code",
   "execution_count": null,
   "id": "d7537ea8",
   "metadata": {},
   "outputs": [],
   "source": []
  }
 ],
 "metadata": {
  "kernelspec": {
   "display_name": "Python 3 (ipykernel)",
   "language": "python",
   "name": "python3"
  },
  "language_info": {
   "codemirror_mode": {
    "name": "ipython",
    "version": 3
   },
   "file_extension": ".py",
   "mimetype": "text/x-python",
   "name": "python",
   "nbconvert_exporter": "python",
   "pygments_lexer": "ipython3",
   "version": "3.8.10"
  }
 },
 "nbformat": 4,
 "nbformat_minor": 5
}
